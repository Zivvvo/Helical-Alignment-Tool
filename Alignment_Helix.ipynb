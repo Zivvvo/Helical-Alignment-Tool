{
 "cells": [
  {
   "cell_type": "code",
   "execution_count": 1,
   "metadata": {},
   "outputs": [],
   "source": [
    "import numpy as np\n",
    "import pandas as pd\n",
    "import matplotlib.pyplot as plt\n",
    "import math"
   ]
  },
  {
   "cell_type": "code",
   "execution_count": 2,
   "metadata": {},
   "outputs": [],
   "source": [
    "data = pd.read_csv('data.txt', delim_whitespace=True)"
   ]
  },
  {
   "cell_type": "code",
   "execution_count": 12,
   "metadata": {},
   "outputs": [],
   "source": [
    "def separate_by_name(data):\n",
    "    #subsetting the dataframe by micrograph name\n",
    "    i = 0\n",
    "    micrographs = []\n",
    "    df1 = None\n",
    "    name = data.loc[0][\"MicrographName\"]\n",
    "    oldIndex = 0\n",
    "    newIndex = 0\n",
    "    while (i < data.shape[0]):\n",
    "        if (data.loc[i][\"MicrographName\"] != name):\n",
    "            micrographs.append(data.iloc[oldIndex:i,:])\n",
    "            oldIndex = i\n",
    "            name = data.loc[i][\"MicrographName\"]\n",
    "        i = i+1\n",
    "    return micrographs"
   ]
  },
  {
   "cell_type": "code",
   "execution_count": 14,
   "metadata": {},
   "outputs": [],
   "source": [
    "newlist = separate_by_name(data)"
   ]
  },
  {
   "cell_type": "code",
   "execution_count": 15,
   "metadata": {},
   "outputs": [],
   "source": [
    "def scatter(micrograph):\n",
    "   #select micrograph 1 as example, plotting it using matplotlib\n",
    "    for (x,y) in list(zip(micrograph.X0, micrograph.Y0)):\n",
    "        plt.scatter(x,y) "
   ]
  },
  {
   "cell_type": "code",
   "execution_count": 16,
   "metadata": {},
   "outputs": [
    {
     "data": {
      "image/png": "[encoded data removed]",
      "text/plain": [
       "<Figure size 432x288 with 1 Axes>"
      ]
     },
     "metadata": {
      "needs_background": "light"
     },
     "output_type": "display_data"
    }
   ],
   "source": [
    "scatter(newlist[0])"
   ]
  },
  {
   "cell_type": "code",
   "execution_count": 17,
   "metadata": {},
   "outputs": [],
   "source": [
    "def psi_extrapolate(x,y, psi, inter_dist, direction):\n",
    "    dx = math.cos(psi)*inter_dist\n",
    "    dy = math.sin(psi)*inter_dist\n",
    "    if (direction):\n",
    "        #positive direction\n",
    "        new_point = (x+dx, y+dy)\n",
    "    else:\n",
    "        new_point = (x-dx, y-dy)\n",
    "    return new_point\n",
    "\n",
    "def L2_dist(x,y, x1, y1):\n",
    "    return math.sqrt(math.pow((x-x1),2)+math.pow((y-y1),2))"
   ]
  },
  {
   "cell_type": "code",
   "execution_count": 92,
   "metadata": {},
   "outputs": [],
   "source": [
    "def point_search(helix, point,xmin,xmax,ymin,ymax, dist, direction):\n",
    "        helix = np.copy(helix)\n",
    "        final_points = []\n",
    "        rand_point = point\n",
    "        while (True):\n",
    "            theoretical_next = psi_extrapolate(rand_point[0],rand_point[1], -1*math.radians(rand_point[8]), 82.5, direction)\n",
    "            #check the nearest points in data_matrix to these two points, if none are there, plot a temporary point and include it in the final points\n",
    "            if (theoretical_next[0] > max_x or theoretical_next[1] > max_y or theoretical_next[0] < min_x or theoretical_next[1] < min_y):\n",
    "                break\n",
    "            i = 0\n",
    "            point_found = False\n",
    "            for point1, point2 in zip(helix[:,0], helix[:,1]):\n",
    "                if L2_dist(theoretical_next[0],theoretical_next[1], point1, point2) < 15:\n",
    "                    final_points.append((point1, point2))\n",
    "                    rand_point = helix[i]\n",
    "                    helix = np.delete(helix, i, 0)\n",
    "                    point_found = True\n",
    "                    break   \n",
    "                i = i +1\n",
    "            if (point_found == False):\n",
    "                    final_points.append(theoretical_next)\n",
    "                    rand_point[0] = theoretical_next[0]\n",
    "                    rand_point[1] = theoretical_next[1]\n",
    "        return final_points"
   ]
  },
  {
   "cell_type": "code",
   "execution_count": 93,
   "metadata": {},
   "outputs": [],
   "source": [
    "import threading\n",
    "import os\n",
    "import concurrent.futures\n",
    "\n",
    "#fitting algorithm\n",
    "\n",
    "#convert micrograph to matrix\n",
    "data_matrix = newlist[0].to_numpy()\n",
    "import random\n",
    "\n",
    "#separate matrix by helical ID\n",
    "helices = np.split(data_matrix, np.where(np.diff(data_matrix[:,2]))[0]+1)\n",
    "\n",
    "fitted_points = []\n",
    "\n",
    "#loop through each helix\n",
    "\n",
    "for helix in helices:\n",
    "    fitted_points_in_helix = []\n",
    "    rand_point = helix[random.randrange(0, helix.shape[0])]\n",
    "    \n",
    "    max_x = np.amax(helix,axis=0)[0]\n",
    "    max_y = np.amax(helix,axis=0)[1]\n",
    "    \n",
    "    min_x = np.amin(helix,axis=0)[0]\n",
    "    min_y = np.amin(helix,axis=0)[1]\n",
    "    \n",
    "    #two thread process to compute positive extrapolation and negative extrapolation at the same time\n",
    "    with concurrent.futures.ThreadPoolExecutor() as executor:\n",
    "        parameters = [(helix, rand_point ,min_x, max_x, min_y, max_y, 82.5, True), (helix, rand_point ,min_x, max_x, min_y, max_y, 82.5, False)]\n",
    "        futures = [executor.submit(point_search, param[0], param[1], param[2], param[3], param[4], param[5], param[6], param[7]) for param in parameters]\n",
    "        return_values = [future.result() for future in futures]\n",
    "        fitted_points_in_helix = [item for sublist in return_values for item in sublist]\n",
    "    for x in fitted_points_in_helix:\n",
    "        fitted_points.append(x)"
   ]
  },
  {
   "cell_type": "code",
   "execution_count": 94,
   "metadata": {},
   "outputs": [
    {
     "data": {
      "image/png": "[encoded data removed]",
      "text/plain": [
       "<Figure size 432x288 with 1 Axes>"
      ]
     },
     "metadata": {
      "needs_background": "light"
     },
     "output_type": "display_data"
    }
   ],
   "source": [
    "#select micrograph 1 as example, plotting it using matplotlib\n",
    "for (x,y) in fitted_points:\n",
    "    plt.scatter(x,y)\n"
   ]
  },
  {
   "cell_type": "code",
   "execution_count": 26,
   "metadata": {},
   "outputs": [
    {
     "data": {
      "text/plain": [
       "(array([13, 20, 33, 45], dtype=int64),)"
      ]
     },
     "execution_count": 26,
     "metadata": {},
     "output_type": "execute_result"
    }
   ],
   "source": []
  },
  {
   "cell_type": "code",
   "execution_count": 51,
   "metadata": {},
   "outputs": [
    {
     "name": "stdout",
     "output_type": "stream",
     "text": [
      "hello world!\n",
      "foo\n"
     ]
    }
   ],
   "source": []
  },
  {
   "cell_type": "code",
   "execution_count": null,
   "metadata": {},
   "outputs": [],
   "source": []
  }
 ],
 "metadata": {
  "kernelspec": {
   "display_name": "Python 3",
   "language": "python",
   "name": "python3"
  },
  "language_info": {
   "codemirror_mode": {
    "name": "ipython",
    "version": 3
   },
   "file_extension": ".py",
   "mimetype": "text/x-python",
   "name": "python",
   "nbconvert_exporter": "python",
   "pygments_lexer": "ipython3",
   "version": "3.7.6"
  }
 },
 "nbformat": 4,
 "nbformat_minor": 4
}
