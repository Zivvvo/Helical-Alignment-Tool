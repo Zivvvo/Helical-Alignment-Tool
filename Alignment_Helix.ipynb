{
 "cells": [
  {
   "cell_type": "code",
   "execution_count": 1,
   "metadata": {},
   "outputs": [],
   "source": [
    "import numpy as np\n",
    "import pandas as pd\n",
    "import matplotlib.pyplot as plt\n",
    "import math"
   ]
  },
  {
   "cell_type": "code",
   "execution_count": 2,
   "metadata": {},
   "outputs": [],
   "source": [
    "data = pd.read_csv('data.txt', delim_whitespace=True)"
   ]
  },
  {
   "cell_type": "code",
   "execution_count": 3,
   "metadata": {},
   "outputs": [],
   "source": [
    "def separate_by_name(data):\n",
    "    #subsetting the dataframe by micrograph name\n",
    "    i = 0\n",
    "    micrographs = []\n",
    "    df1 = None\n",
    "    name = data.loc[0][\"MicrographName\"]\n",
    "    oldIndex = 0\n",
    "    newIndex = 0\n",
    "    while (i < data.shape[0]):\n",
    "        if (data.loc[i][\"MicrographName\"] != name):\n",
    "            micrographs.append(data.iloc[oldIndex:i,:])\n",
    "            oldIndex = i\n",
    "            name = data.loc[i][\"MicrographName\"]\n",
    "        i = i+1\n",
    "    return micrographs"
   ]
  },
  {
   "cell_type": "code",
   "execution_count": 4,
   "metadata": {},
   "outputs": [],
   "source": [
    "newlist = separate_by_name(data)"
   ]
  },
  {
   "cell_type": "code",
   "execution_count": 5,
   "metadata": {},
   "outputs": [
    {
     "data": {
      "text/plain": [
       "3854.031754"
      ]
     },
     "execution_count": 5,
     "metadata": {},
     "output_type": "execute_result"
    }
   ],
   "source": [
    "newlist[0].iloc[0,0]"
   ]
  },
  {
   "cell_type": "code",
   "execution_count": 6,
   "metadata": {},
   "outputs": [],
   "source": [
    "def scatter(micrograph):\n",
    "   #select micrograph 1 as example, plotting it using matplotlib\n",
    "    for (x,y) in list(zip(micrograph.X0, micrograph.Y0)):\n",
    "        plt.scatter(x,y) "
   ]
  },
  {
   "cell_type": "code",
   "execution_count": 7,
   "metadata": {},
   "outputs": [
    {
     "data": {
      "image/png": "[encoded data removed]",
      "text/plain": [
       "<Figure size 432x288 with 1 Axes>"
      ]
     },
     "metadata": {
      "needs_background": "light"
     },
     "output_type": "display_data"
    }
   ],
   "source": [
    "scatter(newlist[0])"
   ]
  },
  {
   "cell_type": "code",
   "execution_count": 8,
   "metadata": {},
   "outputs": [],
   "source": [
    "def psi_extrapolate(x,y, psi, inter_dist, direction):\n",
    "    dx = math.cos(psi)*inter_dist\n",
    "    dy = math.sin(psi)*inter_dist\n",
    "    if (direction):\n",
    "        #positive direction\n",
    "        new_point = (x+dx, y+dy)\n",
    "    else:\n",
    "        new_point = (x-dx, y-dy)\n",
    "    return new_point\n",
    "\n",
    "def L2_dist(x,y, x1, y1):\n",
    "    return math.sqrt(math.pow((x-x1),2)+math.pow((y-y1),2))"
   ]
  },
  {
   "cell_type": "code",
   "execution_count": 9,
   "metadata": {},
   "outputs": [],
   "source": [
    "def post_shift_data(dataframe, binning_factor):\n",
    "    df = dataframe.copy(deep = True)\n",
    "    for i in range(df.shape[0]):\n",
    "        df.iloc[i,0] = df.iloc[i,0]+binning_factor*df.iloc[i,4]\n",
    "        df.iloc[i,1] = df.iloc[i,1]+binning_factor*df.iloc[i,5]\n",
    "    return df"
   ]
  },
  {
   "cell_type": "code",
   "execution_count": 10,
   "metadata": {},
   "outputs": [
    {
     "data": {
      "text/plain": [
       "X0                                                          3853.16\n",
       "Y0                                                          1139.73\n",
       "helicalID                                                         1\n",
       "MicrographName    MotionCorr/job008/Movies/hole4/k40r_cflat_0001...\n",
       "ShiftX                                                     -0.68591\n",
       "ShiftY                                                     0.140838\n",
       "AngleRot                                                   -24.3609\n",
       "AngleTilt                                                   92.3467\n",
       "AnglePsi                                                    60.0434\n",
       "Name: 0, dtype: object"
      ]
     },
     "execution_count": 10,
     "metadata": {},
     "output_type": "execute_result"
    }
   ],
   "source": [
    "post_shift_df = post_shift_data(newlist[0],1.7448/1.37)\n",
    "post_shift_df.iloc[0]"
   ]
  },
  {
   "cell_type": "code",
   "execution_count": 11,
   "metadata": {},
   "outputs": [],
   "source": [
    "def plot_psi(dataframe):\n",
    "    i = 1\n",
    "    for Psi in list(dataframe.AnglePsi):\n",
    "        plt.scatter(i, Psi)\n",
    "        i = i + 1\n",
    "        \n",
    "def plot_psi_np(numpy_arr):\n",
    "    for i in range(numpy_arr.shape[0]):\n",
    "        plt.scatter(i+1, numpy_arr[i][8])\n",
    "        \n",
    "def plot_rot(dataframe):\n",
    "    i = 1\n",
    "    for rot in list(dataframe.AngleRot):\n",
    "        plt.scatter(i, rot)\n",
    "        i = i + 1\n",
    "\n",
    "def plot_tilt(dataframe):\n",
    "    i = 1\n",
    "    for tilt in list(dataframe.AngleTilt):\n",
    "        plt.scatter(i, tilt)\n",
    "        i = i + 1"
   ]
  },
  {
   "cell_type": "code",
   "execution_count": 12,
   "metadata": {},
   "outputs": [
    {
     "data": {
      "image/png": "[encoded data removed]",
      "text/plain": [
       "<Figure size 432x288 with 1 Axes>"
      ]
     },
     "metadata": {
      "needs_background": "light"
     },
     "output_type": "display_data"
    }
   ],
   "source": [
    "plot_psi(post_shift_df)"
   ]
  },
  {
   "cell_type": "code",
   "execution_count": 13,
   "metadata": {},
   "outputs": [
    {
     "data": {
      "image/png": "[encoded data removed]",
      "text/plain": [
       "<Figure size 432x288 with 1 Axes>"
      ]
     },
     "metadata": {
      "needs_background": "light"
     },
     "output_type": "display_data"
    }
   ],
   "source": [
    "plot_rot(post_shift_df)"
   ]
  },
  {
   "cell_type": "code",
   "execution_count": 14,
   "metadata": {},
   "outputs": [
    {
     "data": {
      "image/png": "[encoded data removed]",
      "text/plain": [
       "<Figure size 432x288 with 1 Axes>"
      ]
     },
     "metadata": {
      "needs_background": "light"
     },
     "output_type": "display_data"
    }
   ],
   "source": [
    "plot_tilt(post_shift_df)"
   ]
  },
  {
   "cell_type": "code",
   "execution_count": 15,
   "metadata": {},
   "outputs": [],
   "source": [
    "data_matrix = post_shift_df.to_numpy()"
   ]
  },
  {
   "cell_type": "code",
   "execution_count": 16,
   "metadata": {},
   "outputs": [],
   "source": [
    "def point_search(helix, point, xmin, xmax, ymin, ymax, dist, direction):\n",
    "    helix = np.copy(helix)\n",
    "    final_points = []\n",
    "    rand_point = point\n",
    "    while (True):\n",
    "        theoretical_next = psi_extrapolate(rand_point[0], rand_point[1], -1 * math.radians(rand_point[8]), dist ,\n",
    "                                           direction)\n",
    "        # check the nearest points in data_matrix to these two points, if none are there, plot a temporary point and include it in the final points\n",
    "        if (theoretical_next[0] > xmax or theoretical_next[1] > ymax or theoretical_next[0] < xmin or\n",
    "                theoretical_next[1] < ymin):\n",
    "            break\n",
    "        i = 0\n",
    "        point_found = False\n",
    "        for point1, point2 in zip(helix[:, 0], helix[:, 1]):\n",
    "            if L2_dist(theoretical_next[0], theoretical_next[1], point1, point2) < 15:\n",
    "                final_points.append((point1, point2))\n",
    "                rand_point = helix[i]\n",
    "                helix = np.delete(helix, i, 0)\n",
    "                point_found = True\n",
    "                break\n",
    "            i = i + 1\n",
    "        if (point_found == False):\n",
    "            final_points.append(theoretical_next)\n",
    "            rand_point[0] = theoretical_next[0]\n",
    "            rand_point[1] = theoretical_next[1]\n",
    "    return final_points"
   ]
  },
  {
   "cell_type": "code",
   "execution_count": 17,
   "metadata": {},
   "outputs": [],
   "source": [
    "def get_helices(data_matrix):\n",
    "    return np.split(data_matrix, np.where(np.diff(data_matrix[:,2]))[0]+1)"
   ]
  },
  {
   "cell_type": "code",
   "execution_count": 18,
   "metadata": {},
   "outputs": [
    {
     "data": {
      "image/png": "[encoded data removed]",
      "text/plain": [
       "<Figure size 432x288 with 1 Axes>"
      ]
     },
     "metadata": {
      "needs_background": "light"
     },
     "output_type": "display_data"
    }
   ],
   "source": [
    "helices = get_helices(data_matrix)\n",
    "plot_psi_np(helices[0])"
   ]
  },
  {
   "cell_type": "code",
   "execution_count": 19,
   "metadata": {},
   "outputs": [],
   "source": [
    "def mad(arr):\n",
    "    arr = np.ma.array(arr).compressed() # should be faster to not use masked arrays.\n",
    "    med = np.median(arr)\n",
    "    return np.median(np.abs(arr - med))*1.4826\n",
    "\n",
    "def std_mad(arr):\n",
    "    return (arr - np.median(arr))/mad(arr)\n",
    "\n",
    "def adjust_psi(helix, standard_dev_coefficient):\n",
    "    arr = std_mad(helix[:,8])\n",
    "    new_arr = helix[:,8][np.abs(arr)<standard_dev_coefficient]\n",
    "    mean_psi = np.mean(new_arr)\n",
    "\n",
    "    for i in range(helix.shape[0]):\n",
    "        if np.abs(arr[i]) > standard_dev_coefficient:\n",
    "            helix[i,8] = mean_psi\n",
    "    return helix"
   ]
  },
  {
   "cell_type": "code",
   "execution_count": 20,
   "metadata": {},
   "outputs": [
    {
     "data": {
      "text/plain": [
       "array([[3853.1581950452555, 1139.7260789871532, 1,\n",
       "        'MotionCorr/job008/Movies/hole4/k40r_cflat_00012_4-1.mrc',\n",
       "        -0.68591, 0.14083800000000002, -24.360870000000002, 92.346744,\n",
       "        60.043434],\n",
       "       [3884.665992891971, 1086.577413140438, 1,\n",
       "        'MotionCorr/job008/Movies/hole4/k40r_cflat_00012_4-1.mrc',\n",
       "        -0.85916, 0.31408800000000003, -24.273039999999998, 92.57078,\n",
       "        60.160669999999996],\n",
       "       [3915.394436891971, 1034.4287472937226, 1,\n",
       "        'MotionCorr/job008/Movies/hole4/k40r_cflat_00012_4-1.mrc',\n",
       "        -0.85916, 0.487338, -24.36099, 92.79480799999999, 60.277804],\n",
       "       [3946.1228818919712, 981.2297761696351, 1,\n",
       "        'MotionCorr/job008/Movies/hole4/k40r_cflat_00012_4-1.mrc',\n",
       "        -0.85916, 0.621088, -24.44894, 93.018878, 60.394937],\n",
       "       [3978.0719730452556, 926.4694751404379, 1,\n",
       "        'MotionCorr/job008/Movies/hole4/k40r_cflat_00012_4-1.mrc',\n",
       "        -0.68591, 0.31408800000000003, -24.53689, 93.242994,\n",
       "        60.62925799999999],\n",
       "       [4038.800418045256, 820.100162140438, 1,\n",
       "        'MotionCorr/job008/Movies/hole4/k40r_cflat_00012_4-1.mrc',\n",
       "        -0.68591, 0.31408800000000003, -24.536929999999998, 93.392448,\n",
       "        60.86363000000001],\n",
       "       [4038.5288620452557, 819.730849140438, 1,\n",
       "        'MotionCorr/job008/Movies/hole4/k40r_cflat_00012_4-1.mrc',\n",
       "        -0.68591, 0.31408800000000003, -24.536929999999998, 93.392448,\n",
       "        60.86363000000001],\n",
       "       [4099.868942227737, 713.752525169635, 1,\n",
       "        'MotionCorr/job008/Movies/hole4/k40r_cflat_00012_4-1.mrc',\n",
       "        -0.20565999999999998, 0.621088, -24.62489, 93.616647, 61.215138],\n",
       "       [4100.597386227737, 713.383212169635, 1,\n",
       "        'MotionCorr/job008/Movies/hole4/k40r_cflat_00012_4-1.mrc',\n",
       "        -0.20565999999999998, 0.621088, -24.62489, 93.616647, 61.215138],\n",
       "       [4160.325830227737, 604.8435582937226, 1,\n",
       "        'MotionCorr/job008/Movies/hole4/k40r_cflat_00012_4-1.mrc',\n",
       "        -0.20565999999999998, 0.487338, -24.44914, 93.76620600000001,\n",
       "        61.449613],\n",
       "       [4160.054275227737, 605.4742452937226, 1,\n",
       "        'MotionCorr/job008/Movies/hole4/k40r_cflat_00012_4-1.mrc',\n",
       "        -0.20565999999999998, 0.487338, -24.4491, 93.616694, 61.449615],\n",
       "       [4189.782719227737, 551.1049332937226, 1,\n",
       "        'MotionCorr/job008/Movies/hole4/k40r_cflat_00012_4-1.mrc',\n",
       "        -0.20565999999999998, 0.487338, -24.36127, 93.84099499999999,\n",
       "        61.56685],\n",
       "       [4218.899529045256, 496.7356202937226, 1,\n",
       "        'MotionCorr/job008/Movies/hole4/k40r_cflat_00012_4-1.mrc',\n",
       "        -0.68591, 0.487338, -24.27339, 93.915791, 61.684088],\n",
       "       [4249.018961074453, 443.53664816963504, 1,\n",
       "        'MotionCorr/job008/Movies/hole4/k40r_cflat_00012_4-1.mrc',\n",
       "        -0.37890999999999997, 0.621088, -24.273429999999998,\n",
       "        94.06535500000001, 61.801272999999995]], dtype=object)"
      ]
     },
     "execution_count": 20,
     "metadata": {},
     "output_type": "execute_result"
    }
   ],
   "source": [
    "helices[0]"
   ]
  },
  {
   "cell_type": "code",
   "execution_count": 21,
   "metadata": {},
   "outputs": [
    {
     "name": "stdout",
     "output_type": "stream",
     "text": [
      "[4100.597386227737 713.383212169635 1\n",
      " 'MotionCorr/job008/Movies/hole4/k40r_cflat_00012_4-1.mrc'\n",
      " -0.20565999999999998 0.621088 -24.62489 93.616647 61.215138]\n"
     ]
    }
   ],
   "source": [
    "for helix in helices:\n",
    "    adjust_psi(helix, 1)\n"
   ]
  },
  {
   "cell_type": "code",
   "execution_count": 22,
   "metadata": {},
   "outputs": [
    {
     "data": {
      "text/plain": [
       "array([[3853.1581950452555, 1139.7260789871532, 1,\n",
       "        'MotionCorr/job008/Movies/hole4/k40r_cflat_00012_4-1.mrc',\n",
       "        -0.68591, 0.14083800000000002, -24.360870000000002, 92.346744,\n",
       "        61.1331897],\n",
       "       [3884.665992891971, 1086.577413140438, 1,\n",
       "        'MotionCorr/job008/Movies/hole4/k40r_cflat_00012_4-1.mrc',\n",
       "        -0.85916, 0.31408800000000003, -24.273039999999998, 92.57078,\n",
       "        61.1331897],\n",
       "       [3915.394436891971, 1034.4287472937226, 1,\n",
       "        'MotionCorr/job008/Movies/hole4/k40r_cflat_00012_4-1.mrc',\n",
       "        -0.85916, 0.487338, -24.36099, 92.79480799999999, 61.1331897],\n",
       "       [3946.1228818919712, 981.2297761696351, 1,\n",
       "        'MotionCorr/job008/Movies/hole4/k40r_cflat_00012_4-1.mrc',\n",
       "        -0.85916, 0.621088, -24.44894, 93.018878, 60.394937],\n",
       "       [3978.0719730452556, 926.4694751404379, 1,\n",
       "        'MotionCorr/job008/Movies/hole4/k40r_cflat_00012_4-1.mrc',\n",
       "        -0.68591, 0.31408800000000003, -24.53689, 93.242994,\n",
       "        60.62925799999999],\n",
       "       [4038.800418045256, 820.100162140438, 1,\n",
       "        'MotionCorr/job008/Movies/hole4/k40r_cflat_00012_4-1.mrc',\n",
       "        -0.68591, 0.31408800000000003, -24.536929999999998, 93.392448,\n",
       "        60.86363000000001],\n",
       "       [4038.5288620452557, 819.730849140438, 1,\n",
       "        'MotionCorr/job008/Movies/hole4/k40r_cflat_00012_4-1.mrc',\n",
       "        -0.68591, 0.31408800000000003, -24.536929999999998, 93.392448,\n",
       "        60.86363000000001],\n",
       "       [4099.868942227737, 713.752525169635, 1,\n",
       "        'MotionCorr/job008/Movies/hole4/k40r_cflat_00012_4-1.mrc',\n",
       "        -0.20565999999999998, 0.621088, -24.62489, 93.616647, 61.215138],\n",
       "       [4100.597386227737, 713.383212169635, 1,\n",
       "        'MotionCorr/job008/Movies/hole4/k40r_cflat_00012_4-1.mrc',\n",
       "        -0.20565999999999998, 0.621088, -24.62489, 93.616647, 61.215138],\n",
       "       [4160.325830227737, 604.8435582937226, 1,\n",
       "        'MotionCorr/job008/Movies/hole4/k40r_cflat_00012_4-1.mrc',\n",
       "        -0.20565999999999998, 0.487338, -24.44914, 93.76620600000001,\n",
       "        61.449613],\n",
       "       [4160.054275227737, 605.4742452937226, 1,\n",
       "        'MotionCorr/job008/Movies/hole4/k40r_cflat_00012_4-1.mrc',\n",
       "        -0.20565999999999998, 0.487338, -24.4491, 93.616694, 61.449615],\n",
       "       [4189.782719227737, 551.1049332937226, 1,\n",
       "        'MotionCorr/job008/Movies/hole4/k40r_cflat_00012_4-1.mrc',\n",
       "        -0.20565999999999998, 0.487338, -24.36127, 93.84099499999999,\n",
       "        61.56685],\n",
       "       [4218.899529045256, 496.7356202937226, 1,\n",
       "        'MotionCorr/job008/Movies/hole4/k40r_cflat_00012_4-1.mrc',\n",
       "        -0.68591, 0.487338, -24.27339, 93.915791, 61.684088],\n",
       "       [4249.018961074453, 443.53664816963504, 1,\n",
       "        'MotionCorr/job008/Movies/hole4/k40r_cflat_00012_4-1.mrc',\n",
       "        -0.37890999999999997, 0.621088, -24.273429999999998,\n",
       "        94.06535500000001, 61.1331897]], dtype=object)"
      ]
     },
     "execution_count": 22,
     "metadata": {},
     "output_type": "execute_result"
    }
   ],
   "source": [
    "helices[0]"
   ]
  },
  {
   "cell_type": "code",
   "execution_count": 23,
   "metadata": {},
   "outputs": [],
   "source": [
    "import threading\n",
    "import os\n",
    "import concurrent.futures\n",
    "\n",
    "#fitting algorithm\n",
    "\n",
    "import random\n",
    "\n",
    "fitted_points = []\n",
    "\n",
    "#loop through each helix\n",
    "\n",
    "for helix in helices:\n",
    "    fitted_points_in_helix = []\n",
    "    rand_point = helix[random.randrange(0, helix.shape[0])]\n",
    "    \n",
    "    max_x = np.amax(helix,axis=0)[0]\n",
    "    max_y = np.amax(helix,axis=0)[1]\n",
    "    \n",
    "    min_x = np.amin(helix,axis=0)[0]\n",
    "    min_y = np.amin(helix,axis=0)[1]\n",
    "    \n",
    "    #two thread process to compute positive extrapolation and negative extrapolation at the same time\n",
    "    with concurrent.futures.ThreadPoolExecutor() as executor:\n",
    "        parameters = [(helix, rand_point ,min_x, max_x, min_y, max_y, 82.5, True), (helix, rand_point ,min_x, max_x, min_y, max_y, 82.5, False)]\n",
    "        futures = [executor.submit(point_search, param[0], param[1], param[2], param[3], param[4], param[5], param[6], param[7]) for param in parameters]\n",
    "        return_values = [future.result() for future in futures]\n",
    "        fitted_points_in_helix = [item for sublist in return_values for item in sublist]\n",
    "    for x in fitted_points_in_helix:\n",
    "        fitted_points.append(x)"
   ]
  },
  {
   "cell_type": "code",
   "execution_count": null,
   "metadata": {},
   "outputs": [],
   "source": []
  },
  {
   "cell_type": "code",
   "execution_count": 24,
   "metadata": {},
   "outputs": [
    {
     "data": {
      "image/png": "[encoded data removed]",
      "text/plain": [
       "<Figure size 432x288 with 1 Axes>"
      ]
     },
     "metadata": {
      "needs_background": "light"
     },
     "output_type": "display_data"
    }
   ],
   "source": [
    "#select micrograph 1 as example, plotting it using matplotlib\n",
    "for (x,y) in fitted_points:\n",
    "    plt.scatter(x,y)\n",
    "    "
   ]
  },
  {
   "cell_type": "code",
   "execution_count": 26,
   "metadata": {},
   "outputs": [
    {
     "data": {
      "text/plain": [
       "(array([13, 20, 33, 45], dtype=int64),)"
      ]
     },
     "execution_count": 26,
     "metadata": {},
     "output_type": "execute_result"
    }
   ],
   "source": []
  },
  {
   "cell_type": "code",
   "execution_count": 51,
   "metadata": {},
   "outputs": [
    {
     "name": "stdout",
     "output_type": "stream",
     "text": [
      "hello world!\n",
      "foo\n"
     ]
    }
   ],
   "source": []
  },
  {
   "cell_type": "code",
   "execution_count": null,
   "metadata": {},
   "outputs": [],
   "source": []
  }
 ],
 "metadata": {
  "kernelspec": {
   "display_name": "Python 3",
   "language": "python",
   "name": "python3"
  },
  "language_info": {
   "codemirror_mode": {
    "name": "ipython",
    "version": 3
   },
   "file_extension": ".py",
   "mimetype": "text/x-python",
   "name": "python",
   "nbconvert_exporter": "python",
   "pygments_lexer": "ipython3",
   "version": "3.7.6"
  }
 },
 "nbformat": 4,
 "nbformat_minor": 4
}
